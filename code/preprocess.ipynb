{
 "cells": [
  {
   "cell_type": "code",
   "execution_count": 2,
   "metadata": {},
   "outputs": [],
   "source": [
    "import pandas as pd"
   ]
  },
  {
   "cell_type": "code",
   "execution_count": 12,
   "metadata": {},
   "outputs": [
    {
     "name": "stdout",
     "output_type": "stream",
     "text": [
      "['Column', 'Detail']\n"
     ]
    }
   ],
   "source": [
    "DATA_PREFIX = '../data/'\n",
    "df = pd.ExcelFile(f\"{DATA_PREFIX}table_column_202412.xlsx\")\n",
    "# print all sheet names\n",
    "sheet_names = df.sheet_names\n",
    "print(sheet_names)"
   ]
  },
  {
   "cell_type": "code",
   "execution_count": 16,
   "metadata": {},
   "outputs": [],
   "source": [
    "detail = pd.read_excel(f\"{DATA_PREFIX}table_column_202412.xlsx\", sheet_name=sheet_names[1])\n",
    "detail.drop(columns=['Unnamed: 4'], inplace=True)\n",
    "detail\n",
    "detail.to_csv(f\"{DATA_PREFIX}table_column_detail.csv\", index=False)"
   ]
  },
  {
   "cell_type": "code",
   "execution_count": null,
   "metadata": {},
   "outputs": [],
   "source": [
    "detail = pd.read_excel(f\"{DATA_PREFIX}table_column_202412.xlsx\", sheet_name=sheet_names[0])\n",
    "detail.drop(columns=[''], inplace=True)\n",
    "\n",
    "detail.to_csv(f\"{DATA_PREFIX}table_column.csv\", index=False)"
   ]
  },
  {
   "cell_type": "code",
   "execution_count": null,
   "metadata": {},
   "outputs": [],
   "source": []
  }
 ],
 "metadata": {
  "kernelspec": {
   "display_name": "gluon",
   "language": "python",
   "name": "python3"
  },
  "language_info": {
   "codemirror_mode": {
    "name": "ipython",
    "version": 3
   },
   "file_extension": ".py",
   "mimetype": "text/x-python",
   "name": "python",
   "nbconvert_exporter": "python",
   "pygments_lexer": "ipython3",
   "version": "3.11.9"
  }
 },
 "nbformat": 4,
 "nbformat_minor": 2
}
